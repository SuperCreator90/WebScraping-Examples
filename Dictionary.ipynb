{
 "cells": [
  {
   "cell_type": "markdown",
   "id": "ff262a3e",
   "metadata": {},
   "source": [
    "#### A bit about this work:\n",
    "\n",
    "Dictionary help users understand <b>unfamiliar words, provide context for word usage, and correct spelling</b>. They offer pronunciation guides and insight into a word's origin or etymology. Dictionaries are indispensable for language learners, expanding their vocabulary and helping them grasp language nuances. \n",
    "A dictionary holds a lot of data. So, creating a dictionary web app, mobile app, and rest service requires <b>a large set of data </b>.So, to overcome this data requirement this scraping file could behelpful."
   ]
  },
  {
   "cell_type": "markdown",
   "id": "fd661da2",
   "metadata": {},
   "source": [
    "##### Libraries needed to scrape data"
   ]
  },
  {
   "cell_type": "code",
   "execution_count": 1,
   "id": "f30d8235",
   "metadata": {},
   "outputs": [],
   "source": [
    "import re\n",
    "import json\n",
    "import requests \n",
    "import pandas as pd\n",
    "from bs4 import BeautifulSoup as bs"
   ]
  },
  {
   "cell_type": "markdown",
   "id": "1319f893",
   "metadata": {},
   "source": [
    "###### Meaning of a Word\n",
    "\n",
    "for example consider the word is 'hello'."
   ]
  },
  {
   "cell_type": "code",
   "execution_count": 2,
   "id": "07971f9e",
   "metadata": {},
   "outputs": [],
   "source": [
    "url = \"https://www.yourdictionary.com/hello\" # taking an example word :- 'hello' to scrape it's meaning\n",
    "webpage = requests.get(url).text\n",
    "soup = bs(webpage, 'lxml')\n",
    "res = soup.find_all('div',class_=\"definition-cluster\")"
   ]
  },
  {
   "cell_type": "code",
   "execution_count": 3,
   "id": "03e2b764",
   "metadata": {},
   "outputs": [
    {
     "name": "stdout",
     "output_type": "stream",
     "text": [
      "Used as a greeting or response, as in telephoning.\n",
      "Used to express astonishment or surprise.\n",
      "Used to attract attention.\n"
     ]
    }
   ],
   "source": [
    "for i in res:\n",
    "    try:\n",
    "        print((i.find('div',class_=\"text-base\")).text)\n",
    "    except:\n",
    "        break"
   ]
  },
  {
   "cell_type": "markdown",
   "id": "372da2b9",
   "metadata": {},
   "source": [
    "###### Synonyms,Antonyms and of a Word\n",
    "\n",
    "for example consider the word is 'hello'."
   ]
  },
  {
   "cell_type": "code",
   "execution_count": 4,
   "id": "c9eed04f",
   "metadata": {},
   "outputs": [],
   "source": [
    "url ='https://thesaurus.yourdictionary.com/hello'\n",
    "webpage = requests.get(url).text\n",
    "soup = bs(webpage, 'lxml')"
   ]
  },
  {
   "cell_type": "code",
   "execution_count": 5,
   "id": "38747cb1",
   "metadata": {},
   "outputs": [
    {
     "name": "stdout",
     "output_type": "stream",
     "text": [
      "['shalom (Hebrew)', 'au revoir (French)', 'buenos días', 'howdy', 'welcome', \"what's happening; put it there\", 'how-do-you-do', 'buenas tardes', 'greetings', 'hullo', 'yo', 'buenos dÃ\\xadas', 'good-day', 'how-are-you', 'hey', 'adios (Spanish)', 'bonjour (French)', 'howdy-do', 'goodbye', 'adiÃ³s (Spanish)', 'good-morning', 'hi', 'ciao (Italian)', 'how-goes-it', 'buenas noches (all Spanish)', 'what-s-up', 'hi-ya'] ['goodbye', 'adios (Spanish)', 'adiÃ³s (Spanish)', 'au revoir (French)']\n"
     ]
    }
   ],
   "source": [
    "synonyms = []\n",
    "res = soup.find_all('div',class_=\"mt-3\")\n",
    "for i in res:\n",
    "    for j in i.find_all('li'):\n",
    "        synonyms.append(j.text)\n",
    "    \n",
    "\n",
    "antonyms = []\n",
    "res = soup.find_all('div',class_=\"mt-4\")\n",
    "for i in res:\n",
    "    for j in i.find_all('li'):\n",
    "        antonyms.append(j.text)\n",
    "        \n",
    "        \n",
    "synonyms = list(set(synonyms))            \n",
    "antonyms = list(set(antonyms))\n",
    "\n",
    "print(synonyms,antonyms)\n"
   ]
  },
  {
   "cell_type": "markdown",
   "id": "5ed29eb4",
   "metadata": {},
   "source": [
    "###### Implementation of a Word in a Sentence \n",
    "\n",
    "for example consider the word is 'hello'."
   ]
  },
  {
   "cell_type": "code",
   "execution_count": 6,
   "id": "195b9037",
   "metadata": {},
   "outputs": [],
   "source": [
    "url ='https://sentence.yourdictionary.com/hello'\n",
    "webpage = requests.get(url).text\n",
    "soup = bs(webpage, 'lxml')\n",
    "res = soup.find_all('div',class_=\"sentence-item\")"
   ]
  },
  {
   "cell_type": "code",
   "execution_count": 7,
   "id": "91df34b5",
   "metadata": {},
   "outputs": [
    {
     "data": {
      "text/plain": [
       "['Hello, can I help you with something?',\n",
       " 'She then turned and sauntered towards Victor, not a hint of fear in her carriage \"Hello, Victor\" His greeting was returned with a hiss, \"Elisabeth!\"',\n",
       " \"Hello Michelle, I'm Jackson.\",\n",
       " 'He shrugged as she ignored his hello smile.',\n",
       " \"You can also use them when leaving comments for friends, resulting in memorable birthday greetings or just an everyday hello that's far from ordinary.\"]"
      ]
     },
     "execution_count": 7,
     "metadata": {},
     "output_type": "execute_result"
    }
   ],
   "source": [
    "sentance = []\n",
    "sentance_max_count=5\n",
    "for i in res:\n",
    "    if sentance_max_count>0:\n",
    "        for j in i.find_all('p'):\n",
    "            sentance.append(j.text)\n",
    "    else:\n",
    "        break\n",
    "    sentance_max_count -=1\n",
    "\n",
    "sentance"
   ]
  },
  {
   "cell_type": "markdown",
   "id": "71ca48a2",
   "metadata": {},
   "source": [
    "###### A function to Find :-\n",
    "\n",
    "<ol>\n",
    "    <li> Meaning </li>\n",
    "    <li> Synonyms</li>\n",
    "    <li> Antonyms </li>\n",
    "    <li> Implementation in a sentence</li>\n",
    "</ol>of a word."
   ]
  },
  {
   "cell_type": "code",
   "execution_count": 8,
   "id": "9a4cd50d",
   "metadata": {},
   "outputs": [],
   "source": [
    "class process_word:\n",
    "    \n",
    "    def __init__(self,word):\n",
    "        self.word = word\n",
    "        self.url_1 = \"https://www.yourdictionary.com/{}\".format(word)\n",
    "        self.url_2 = \"https://thesaurus.yourdictionary.com/{}\".format(word)\n",
    "        self.url_3 = \"https://sentence.yourdictionary.com/{}\".format(word)\n",
    "        self.meanings = []\n",
    "        self.synonyms = []\n",
    "        self.antonyms = []\n",
    "        self.sentance = []\n",
    "\n",
    "    def get_meanings(self):\n",
    "        webpage = requests.get(self.url_1).text\n",
    "        soup = bs(webpage, 'lxml')\n",
    "        res = soup.find_all('div',class_=\"definition-cluster\")\n",
    "        for i in res:\n",
    "            try:\n",
    "                self.meanings.append((i.find('div',class_=\"text-base\")).text.strip())\n",
    "            except:\n",
    "                break\n",
    "        \n",
    "    def get_synonyms_antonyms(self):\n",
    "        webpage = requests.get(self.url_2).text\n",
    "        soup = bs(webpage, 'lxml')\n",
    "\n",
    "        res = soup.find_all('div',class_=\"mt-3\")\n",
    "        for i in res:\n",
    "            for j in i.find_all('li'):\n",
    "                self.synonyms.append(j.text.strip())\n",
    "                \n",
    "        res = soup.find_all('div',class_=\"mt-4\")\n",
    "        for i in res:\n",
    "            for j in i.find_all('li'):\n",
    "                self.antonyms.append(j.text.strip())\n",
    "\n",
    "        self.synonyms = list(set(self.synonyms))  #removing duplicate values if any          \n",
    "        self.antonyms = list(set(self.antonyms))  #removing duplicate values if any\n",
    "\n",
    "\n",
    "    def get_sentance_applications(self):\n",
    "        webpage = requests.get(self.url_3).text\n",
    "        soup = bs(webpage, 'lxml')\n",
    "        res = soup.find_all('div',class_=\"sentence-item\")\n",
    "        sentance_max_count = 5 #taking maximun 5 examples\n",
    "        for i in res:\n",
    "            if sentance_max_count>0:\n",
    "                for j in i.find_all('p'):\n",
    "                    self.sentance.append(j.text.strip())\n",
    "            else:\n",
    "                break\n",
    "            sentance_max_count -=1\n",
    "            \n",
    "    def execute(self):\n",
    "        self.get_meanings()\n",
    "        self.get_synonyms_antonyms()\n",
    "        self.get_sentance_applications()\n",
    "        \n",
    "    \n",
    "    def get_output(self):\n",
    "        self.execute()\n",
    "        return {\n",
    "            \"word\":self.word,\n",
    "            \"meanings\":self.meanings,\n",
    "            \"synonyms\":self.synonyms,\n",
    "            \"antonyms\" : self.antonyms,\n",
    "            \"sentance_application\":self.sentance\n",
    "        }\n"
   ]
  },
  {
   "cell_type": "code",
   "execution_count": 9,
   "id": "9540c49a",
   "metadata": {},
   "outputs": [
    {
     "data": {
      "text/plain": [
       "{'word': 'inaccurate',\n",
       " 'meanings': ['Not accurate; not correct; not exact; in error.'],\n",
       " 'synonyms': ['unsound',\n",
       "  'mistaken',\n",
       "  'erroneous',\n",
       "  'in error',\n",
       "  'imprecision',\n",
       "  'incorrect',\n",
       "  'inexactitude',\n",
       "  'off',\n",
       "  'discrepant',\n",
       "  'faulty',\n",
       "  'misconception',\n",
       "  'false',\n",
       "  'unreliable',\n",
       "  'wrong',\n",
       "  'accurate',\n",
       "  'misleading',\n",
       "  'apocryphal',\n",
       "  'inexactness',\n",
       "  'unpunctilious',\n",
       "  'inexact',\n",
       "  'discrepancy',\n",
       "  'erratum',\n",
       "  'fallacy',\n",
       "  'careless',\n",
       "  'fallacious',\n",
       "  'untrue',\n",
       "  'inaccuracy',\n",
       "  'correct',\n",
       "  'right',\n",
       "  'defective'],\n",
       " 'antonyms': ['accurate', 'right', 'correct'],\n",
       " 'sentance_application': ['If this is inaccurate or incomplete, the Government cannot blame the newspapers.',\n",
       "  'His book is, however, inaccurate and grossly partial.',\n",
       "  'It is often inaccurate, and it abounds in farfetched conceits and odd and pedantic features.',\n",
       "  'This result, though widely inaccurate, came much nearer to the truth than any previously obtained; and it instructively illustrated the feasibility of concerted astronomical operations at distant parts of the earth.',\n",
       "  'The address of the clergy, inspired by the great prelates, sought to make inaccurate lamentations over the progress of impiety a means of safeguarding their enormous spiritual and temporal powers, their privileges and exemptions, and their vast wealth.']}"
      ]
     },
     "execution_count": 9,
     "metadata": {},
     "output_type": "execute_result"
    }
   ],
   "source": [
    "output = process_word(\"inaccurate\")\n",
    "output.get_output()"
   ]
  },
  {
   "cell_type": "code",
   "execution_count": 10,
   "id": "fce2322e",
   "metadata": {},
   "outputs": [
    {
     "data": {
      "text/plain": [
       "{'word': 'mobile',\n",
       " 'meanings': ['Moving, or capable of moving or being moved, from place to place.',\n",
       "  'Movable by means of a motor vehicle or vehicles.',\n",
       "  'Very fluid, as mercury.',\n",
       "  'Capable of changing rapidly or easily, as in response to different moods, feelings, conditions, needs, or influences; flexible, adaptable, etc.',\n",
       "  'Of or having to do with wireless communications services, devices, etc., esp. cell phones.',\n",
       "  'A type of sculpture consisting of carefully equilibrated parts that move, especially in response to air currents.',\n",
       "  'A piece of abstract sculpture which aims to depict movement, i.e., kinetic rather than static rhythms, as by an arrangement of thin forms, rings, rods, etc. balanced and suspended in midair and set in motion by air currents.'],\n",
       " 'synonyms': ['free',\n",
       "  'motile',\n",
       "  'fluid',\n",
       "  'changeable',\n",
       "  'immobile',\n",
       "  'peregrine',\n",
       "  'traveling',\n",
       "  'portable',\n",
       "  'wandering',\n",
       "  'sculpture',\n",
       "  'moving',\n",
       "  'motor-activated',\n",
       "  'travelling',\n",
       "  'stabile',\n",
       "  'migratory',\n",
       "  'transportable',\n",
       "  'unstable',\n",
       "  'stable',\n",
       "  'Mobile River',\n",
       "  'fixed',\n",
       "  'stationary',\n",
       "  'loose',\n",
       "  'locomotive',\n",
       "  'roving',\n",
       "  'movable',\n",
       "  'nomadic',\n",
       "  'unmovable',\n",
       "  'plastic'],\n",
       " 'antonyms': ['fixed',\n",
       "  'immobile',\n",
       "  'stationary',\n",
       "  'stabile',\n",
       "  'unmovable',\n",
       "  'stable'],\n",
       " 'sentance_application': ['Twenty-five years ago, I had never seen a mobile phone.',\n",
       "  'Every shade of feeling finds expression through her mobile features.',\n",
       "  'Around the world, more than a billion mobile devices that both take and send photographs are currently in use, spread even to the poorest parts of the globe.',\n",
       "  'Food & Drink There will be on-site mobile caterers offering hot food and drinks.',\n",
       "  'Only 3.4 million consumers watch mobile TV broadcasts currently, In-Stat said.']}"
      ]
     },
     "execution_count": 10,
     "metadata": {},
     "output_type": "execute_result"
    }
   ],
   "source": [
    "output = process_word(\"mobile\")\n",
    "output.get_output()"
   ]
  },
  {
   "cell_type": "code",
   "execution_count": null,
   "id": "bbedb272",
   "metadata": {},
   "outputs": [],
   "source": []
  }
 ],
 "metadata": {
  "kernelspec": {
   "display_name": "Python 3 (ipykernel)",
   "language": "python",
   "name": "python3"
  },
  "language_info": {
   "codemirror_mode": {
    "name": "ipython",
    "version": 3
   },
   "file_extension": ".py",
   "mimetype": "text/x-python",
   "name": "python",
   "nbconvert_exporter": "python",
   "pygments_lexer": "ipython3",
   "version": "3.10.9"
  }
 },
 "nbformat": 4,
 "nbformat_minor": 5
}
