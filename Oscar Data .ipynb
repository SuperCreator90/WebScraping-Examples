{
 "cells": [
  {
   "cell_type": "code",
   "execution_count": 18,
   "id": "98be8246",
   "metadata": {},
   "outputs": [],
   "source": [
    "import re\n",
    "import json\n",
    "import requests \n",
    "import pandas as pd\n",
    "from selenium import webdriver\n",
    "from bs4 import BeautifulSoup as bs\n",
    "from selenium.webdriver.common.by import By\n",
    "from selenium.webdriver.support.ui import WebDriverWait\n",
    "from selenium.webdriver.support import expected_conditions as EC"
   ]
  },
  {
   "cell_type": "code",
   "execution_count": 19,
   "id": "7d6ba8e1",
   "metadata": {},
   "outputs": [],
   "source": [
    "headers = {'User-Agent': 'Mozilla/5.0 (Windows NT 6.1; WOW64) AppleWebKit/537.36 (KHTML, like Gecko) Chrome/56.0.2924.76 Safari/537.36'}"
   ]
  },
  {
   "cell_type": "code",
   "execution_count": 20,
   "id": "5362519c",
   "metadata": {},
   "outputs": [],
   "source": [
    "url = 'https://www.imdb.com/event/ev0000003/2023/1/?ref_=ev_eh'"
   ]
  },
  {
   "cell_type": "code",
   "execution_count": 21,
   "id": "9f6ef9b7",
   "metadata": {},
   "outputs": [
    {
     "name": "stderr",
     "output_type": "stream",
     "text": [
      "C:\\Users\\sankh\\AppData\\Local\\Temp\\ipykernel_2844\\3863481038.py:1: DeprecationWarning: executable_path has been deprecated, please pass in a Service object\n",
      "  browser = webdriver.Chrome(\"./chromedriver\")\n"
     ]
    }
   ],
   "source": [
    "browser = webdriver.Chrome(\"./chromedriver\")"
   ]
  },
  {
   "cell_type": "code",
   "execution_count": 22,
   "id": "514380ff",
   "metadata": {},
   "outputs": [],
   "source": [
    "browser.get(url)"
   ]
  },
  {
   "cell_type": "code",
   "execution_count": 23,
   "id": "45f62672",
   "metadata": {},
   "outputs": [],
   "source": [
    "soup = bs(browser.page_source,\"html.parser\")"
   ]
  },
  {
   "cell_type": "code",
   "execution_count": 24,
   "id": "a8b89d1d",
   "metadata": {},
   "outputs": [],
   "source": [
    "res = soup.find('div',class_='event-widgets__award')"
   ]
  },
  {
   "cell_type": "code",
   "execution_count": 25,
   "id": "c36f14fb",
   "metadata": {},
   "outputs": [],
   "source": [
    "winner_list = []\n",
    "all_category= []\n",
    "for i in res.find_all('div',class_='event-widgets__nomination-details'):\n",
    "    if i.find('div', class_=\"event-widgets__winner-badge\") is not None:\n",
    "        winner_list.append(i.find('div',class_='event-widgets__primary-nominees').text)\n",
    "        \n",
    "\n",
    "for j in res.find_all('div',class_='event-widgets__award-category-name'):\n",
    "    all_category.append(j.text)\n"
   ]
  },
  {
   "cell_type": "code",
   "execution_count": 26,
   "id": "2283189e",
   "metadata": {},
   "outputs": [
    {
     "name": "stdout",
     "output_type": "stream",
     "text": [
      "1.======================\n",
      "Best Motion Picture of the Year : \n",
      "Everything Everywhere All at Once\n",
      "=======================\n",
      "                       \n",
      "2.======================\n",
      "Best Performance by an Actor in a Leading Role : \n",
      "Brendan Fraser\n",
      "=======================\n",
      "                       \n",
      "3.======================\n",
      "Best Performance by an Actress in a Leading Role : \n",
      "Michelle Yeoh\n",
      "=======================\n",
      "                       \n",
      "4.======================\n",
      "Best Performance by an Actor in a Supporting Role : \n",
      "Ke Huy Quan\n",
      "=======================\n",
      "                       \n",
      "5.======================\n",
      "Best Performance by an Actress in a Supporting Role : \n",
      "Jamie Lee Curtis\n",
      "=======================\n",
      "                       \n",
      "6.======================\n",
      "Best Achievement in Directing : \n",
      "Daniel Kwan, Daniel Scheinert\n",
      "=======================\n",
      "                       \n",
      "7.======================\n",
      "Best Original Screenplay : \n",
      "Everything Everywhere All at Once\n",
      "=======================\n",
      "                       \n",
      "8.======================\n",
      "Best Adapted Screenplay : \n",
      "Women Talking\n",
      "=======================\n",
      "                       \n",
      "9.======================\n",
      "Best Achievement in Cinematography : \n",
      "All Quiet on the Western Front\n",
      "=======================\n",
      "                       \n",
      "10.======================\n",
      "Best Achievement in Film Editing : \n",
      "Everything Everywhere All at Once\n",
      "=======================\n",
      "                       \n",
      "11.======================\n",
      "Best Achievement in Production Design : \n",
      "All Quiet on the Western Front\n",
      "=======================\n",
      "                       \n",
      "12.======================\n",
      "Best Achievement in Costume Design : \n",
      "Black Panther: Wakanda Forever\n",
      "=======================\n",
      "                       \n",
      "13.======================\n",
      "Best Sound : \n",
      "Top Gun: Maverick\n",
      "=======================\n",
      "                       \n",
      "14.======================\n",
      "Best Achievement in Makeup and Hairstyling : \n",
      "The Whale\n",
      "=======================\n",
      "                       \n",
      "15.======================\n",
      "Best Achievement in Music Written for Motion Pictures (Original Score) : \n",
      "All Quiet on the Western Front\n",
      "=======================\n",
      "                       \n",
      "16.======================\n",
      "Best Achievement in Music Written for Motion Pictures (Original Song) : \n",
      "RRR\n",
      "=======================\n",
      "                       \n",
      "17.======================\n",
      "Best Achievement in Visual Effects : \n",
      "Avatar: The Way of Water\n",
      "=======================\n",
      "                       \n",
      "18.======================\n",
      "Best Documentary Feature : \n",
      "Navalny\n",
      "=======================\n",
      "                       \n",
      "19.======================\n",
      "Best Animated Feature Film : \n",
      "Guillermo del Toro's Pinocchio\n",
      "=======================\n",
      "                       \n",
      "20.======================\n",
      "Best Animated Short Film : \n",
      "The Boy, the Mole, the Fox and the Horse\n",
      "=======================\n",
      "                       \n",
      "21.======================\n",
      "Best Live Action Short Film : \n",
      "An Irish Goodbye\n",
      "=======================\n",
      "                       \n",
      "22.======================\n",
      "Best Documentary Short Film : \n",
      "The Elephant Whisperers\n",
      "=======================\n",
      "                       \n",
      "23.======================\n",
      "Best International Feature Film : \n",
      "All Quiet on the Western Front\n",
      "=======================\n",
      "                       \n"
     ]
    }
   ],
   "source": [
    "c = 1\n",
    "for i,j in zip(all_category,winner_list):\n",
    "    c1 = c\n",
    "    print(str(c1) + \".======================\")\n",
    "    print(i + \" : \")\n",
    "    print(j)\n",
    "    print(\"=======================\")\n",
    "    print(\"                       \")\n",
    "    c+=1"
   ]
  },
  {
   "cell_type": "code",
   "execution_count": 29,
   "id": "328ff8cb",
   "metadata": {},
   "outputs": [],
   "source": [
    "data = {}\n",
    "\n",
    "for i,j in zip(all_category,winner_list):\n",
    "    data['year'] = 2023\n",
    "    data[i] = j\n",
    "    "
   ]
  },
  {
   "cell_type": "code",
   "execution_count": 30,
   "id": "b9060bee",
   "metadata": {},
   "outputs": [
    {
     "data": {
      "text/plain": [
       "{'year': 2023,\n",
       " 'Best Motion Picture of the Year': 'Everything Everywhere All at Once',\n",
       " 'Best Performance by an Actor in a Leading Role': 'Brendan Fraser',\n",
       " 'Best Performance by an Actress in a Leading Role': 'Michelle Yeoh',\n",
       " 'Best Performance by an Actor in a Supporting Role': 'Ke Huy Quan',\n",
       " 'Best Performance by an Actress in a Supporting Role': 'Jamie Lee Curtis',\n",
       " 'Best Achievement in Directing': 'Daniel Kwan, Daniel Scheinert',\n",
       " 'Best Original Screenplay': 'Everything Everywhere All at Once',\n",
       " 'Best Adapted Screenplay': 'Women Talking',\n",
       " 'Best Achievement in Cinematography': 'All Quiet on the Western Front',\n",
       " 'Best Achievement in Film Editing': 'Everything Everywhere All at Once',\n",
       " 'Best Achievement in Production Design': 'All Quiet on the Western Front',\n",
       " 'Best Achievement in Costume Design': 'Black Panther: Wakanda Forever',\n",
       " 'Best Sound': 'Top Gun: Maverick',\n",
       " 'Best Achievement in Makeup and Hairstyling': 'The Whale',\n",
       " 'Best Achievement in Music Written for Motion Pictures (Original Score)': 'All Quiet on the Western Front',\n",
       " 'Best Achievement in Music Written for Motion Pictures (Original Song)': 'RRR',\n",
       " 'Best Achievement in Visual Effects': 'Avatar: The Way of Water',\n",
       " 'Best Documentary Feature': 'Navalny',\n",
       " 'Best Animated Feature Film': \"Guillermo del Toro's Pinocchio\",\n",
       " 'Best Animated Short Film': 'The Boy, the Mole, the Fox and the Horse',\n",
       " 'Best Live Action Short Film': 'An Irish Goodbye',\n",
       " 'Best Documentary Short Film': 'The Elephant Whisperers',\n",
       " 'Best International Feature Film': 'All Quiet on the Western Front'}"
      ]
     },
     "execution_count": 30,
     "metadata": {},
     "output_type": "execute_result"
    }
   ],
   "source": [
    "data"
   ]
  },
  {
   "cell_type": "code",
   "execution_count": null,
   "id": "f5cbf8f5",
   "metadata": {},
   "outputs": [],
   "source": []
  },
  {
   "cell_type": "code",
   "execution_count": null,
   "id": "4857f570",
   "metadata": {},
   "outputs": [],
   "source": []
  },
  {
   "cell_type": "code",
   "execution_count": null,
   "id": "1cab0bf1",
   "metadata": {},
   "outputs": [],
   "source": []
  }
 ],
 "metadata": {
  "kernelspec": {
   "display_name": "Python 3 (ipykernel)",
   "language": "python",
   "name": "python3"
  },
  "language_info": {
   "codemirror_mode": {
    "name": "ipython",
    "version": 3
   },
   "file_extension": ".py",
   "mimetype": "text/x-python",
   "name": "python",
   "nbconvert_exporter": "python",
   "pygments_lexer": "ipython3",
   "version": "3.10.9"
  }
 },
 "nbformat": 4,
 "nbformat_minor": 5
}
