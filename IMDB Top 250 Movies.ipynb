{
 "cells": [
  {
   "attachments": {},
   "cell_type": "markdown",
   "id": "ca603874",
   "metadata": {},
   "source": [
    "## IMDB Top 250 movies\n",
    "IMDb Top 250 is a list of the highest-rated movies as voted by IMDb users. It is a dynamic list that constantly changes based on user ratings and rankings. The IMDb Top 250 movies represent a wide range of genres, languages, and time periods, showcasing films from around the world that have garnered critical acclaim and popularity among audiences. The list includes classics, contemporary favorites, and influential films that have made a significant impact on the world of cinema. It serves as a reference for movie enthusiasts looking to explore highly regarded films and serves as a measure of the collective opinion of IMDb users.\n"
   ]
  },
  {
   "attachments": {},
   "cell_type": "markdown",
   "id": "1f82078c",
   "metadata": {},
   "source": [
    "- Libraries needed to scrape the data :"
   ]
  },
  {
   "cell_type": "code",
   "execution_count": 1,
   "id": "773753de",
   "metadata": {},
   "outputs": [],
   "source": [
    "from  bs4 import BeautifulSoup as bs \n",
    "import pandas as pd\n",
    "import requests \n",
    "import re"
   ]
  },
  {
   "cell_type": "code",
   "execution_count": 2,
   "id": "59dc53ae",
   "metadata": {},
   "outputs": [],
   "source": [
    "headers = {'User-Agent': 'Mozilla/5.0 (Windows NT 6.1; WOW64) AppleWebKit/537.36 (KHTML, like Gecko) Chrome/56.0.2924.76 Safari/537.36'}"
   ]
  },
  {
   "cell_type": "code",
   "execution_count": 3,
   "id": "15a9a484",
   "metadata": {},
   "outputs": [],
   "source": [
    "url = 'https://www.imdb.com/chart/top/?ref_=nv_mv_250' #url from where data is getting scraped"
   ]
  },
  {
   "cell_type": "code",
   "execution_count": 4,
   "id": "63f568ae",
   "metadata": {},
   "outputs": [],
   "source": [
    "webpage = requests.get(url, headers=headers).text\n",
    "soup = bs(webpage, 'lxml') "
   ]
  },
  {
   "cell_type": "code",
   "execution_count": 5,
   "id": "9fe79a08",
   "metadata": {},
   "outputs": [],
   "source": [
    "res=soup.find('tbody',class_='lister-list') # to find the desired HTML tag"
   ]
  },
  {
   "cell_type": "code",
   "execution_count": 6,
   "id": "b1a4c67d",
   "metadata": {},
   "outputs": [],
   "source": [
    "m_no = [] # Variable to store movie  ranking\n",
    "m_nm = [] # Variable to store movie  name\n",
    "m_rd = [] # Variable to store movie  release year\n",
    "m_rt = [] # Variable to store movie  IMDb movie rating\n",
    "c = 1\n",
    "\n",
    "for i,j in zip(res.find_all('td',class_='titleColumn'),res.find_all('td',class_='imdbRating')):\n",
    "    m_no.append(c)\n",
    "    m_nm.append(\" \".join(i.text.strip().split()).split('(')[0].split('.')[1].strip())\n",
    "    m_rd.append(\" \".join(i.text.strip().split()).split('(')[1].strip(')'))\n",
    "    m_rt.append(j.text.strip())\n",
    "    c += 1"
   ]
  },
  {
   "cell_type": "code",
   "execution_count": 7,
   "id": "8a2844a5",
   "metadata": {},
   "outputs": [],
   "source": [
    "df = pd.DataFrame() # Creating a blank Dataframe"
   ]
  },
  {
   "cell_type": "code",
   "execution_count": 8,
   "id": "1b9f5d08",
   "metadata": {},
   "outputs": [],
   "source": [
    "#Storing data in the form of columns\n",
    "df['movie_rank'] = m_no\n",
    "df['movie_name'] = m_nm\n",
    "df['release_year'] = m_rd\n",
    "df['rating'] = m_rt"
   ]
  },
  {
   "cell_type": "code",
   "execution_count": 9,
   "id": "26bd77f9",
   "metadata": {},
   "outputs": [
    {
     "data": {
      "text/plain": [
       "(250, 4)"
      ]
     },
     "execution_count": 9,
     "metadata": {},
     "output_type": "execute_result"
    }
   ],
   "source": [
    "df.shape #To obtain the shape of dataframe"
   ]
  },
  {
   "cell_type": "code",
   "execution_count": 10,
   "id": "9e0ad3d3",
   "metadata": {},
   "outputs": [
    {
     "data": {
      "text/html": [
       "<div>\n",
       "<style scoped>\n",
       "    .dataframe tbody tr th:only-of-type {\n",
       "        vertical-align: middle;\n",
       "    }\n",
       "\n",
       "    .dataframe tbody tr th {\n",
       "        vertical-align: top;\n",
       "    }\n",
       "\n",
       "    .dataframe thead th {\n",
       "        text-align: right;\n",
       "    }\n",
       "</style>\n",
       "<table border=\"1\" class=\"dataframe\">\n",
       "  <thead>\n",
       "    <tr style=\"text-align: right;\">\n",
       "      <th></th>\n",
       "      <th>movie_rank</th>\n",
       "      <th>movie_name</th>\n",
       "      <th>release_year</th>\n",
       "      <th>rating</th>\n",
       "    </tr>\n",
       "  </thead>\n",
       "  <tbody>\n",
       "    <tr>\n",
       "      <th>0</th>\n",
       "      <td>1</td>\n",
       "      <td>The Shawshank Redemption</td>\n",
       "      <td>1994</td>\n",
       "      <td>9.2</td>\n",
       "    </tr>\n",
       "    <tr>\n",
       "      <th>1</th>\n",
       "      <td>2</td>\n",
       "      <td>The Godfather</td>\n",
       "      <td>1972</td>\n",
       "      <td>9.2</td>\n",
       "    </tr>\n",
       "    <tr>\n",
       "      <th>2</th>\n",
       "      <td>3</td>\n",
       "      <td>The Dark Knight</td>\n",
       "      <td>2008</td>\n",
       "      <td>9.0</td>\n",
       "    </tr>\n",
       "    <tr>\n",
       "      <th>3</th>\n",
       "      <td>4</td>\n",
       "      <td>The Godfather Part II</td>\n",
       "      <td>1974</td>\n",
       "      <td>9.0</td>\n",
       "    </tr>\n",
       "    <tr>\n",
       "      <th>4</th>\n",
       "      <td>5</td>\n",
       "      <td>12 Angry Men</td>\n",
       "      <td>1957</td>\n",
       "      <td>9.0</td>\n",
       "    </tr>\n",
       "  </tbody>\n",
       "</table>\n",
       "</div>"
      ],
      "text/plain": [
       "   movie_rank                movie_name release_year rating\n",
       "0           1  The Shawshank Redemption         1994    9.2\n",
       "1           2             The Godfather         1972    9.2\n",
       "2           3           The Dark Knight         2008    9.0\n",
       "3           4     The Godfather Part II         1974    9.0\n",
       "4           5              12 Angry Men         1957    9.0"
      ]
     },
     "execution_count": 10,
     "metadata": {},
     "output_type": "execute_result"
    }
   ],
   "source": [
    "df.head() # Shows The first 5 rows"
   ]
  },
  {
   "cell_type": "code",
   "execution_count": 11,
   "id": "7152d5b5",
   "metadata": {},
   "outputs": [
    {
     "data": {
      "text/html": [
       "<div>\n",
       "<style scoped>\n",
       "    .dataframe tbody tr th:only-of-type {\n",
       "        vertical-align: middle;\n",
       "    }\n",
       "\n",
       "    .dataframe tbody tr th {\n",
       "        vertical-align: top;\n",
       "    }\n",
       "\n",
       "    .dataframe thead th {\n",
       "        text-align: right;\n",
       "    }\n",
       "</style>\n",
       "<table border=\"1\" class=\"dataframe\">\n",
       "  <thead>\n",
       "    <tr style=\"text-align: right;\">\n",
       "      <th></th>\n",
       "      <th>movie_rank</th>\n",
       "      <th>movie_name</th>\n",
       "      <th>release_year</th>\n",
       "      <th>rating</th>\n",
       "    </tr>\n",
       "  </thead>\n",
       "  <tbody>\n",
       "    <tr>\n",
       "      <th>245</th>\n",
       "      <td>246</td>\n",
       "      <td>The Help</td>\n",
       "      <td>2011</td>\n",
       "      <td>8.0</td>\n",
       "    </tr>\n",
       "    <tr>\n",
       "      <th>246</th>\n",
       "      <td>247</td>\n",
       "      <td>The Iron Giant</td>\n",
       "      <td>1999</td>\n",
       "      <td>8.0</td>\n",
       "    </tr>\n",
       "    <tr>\n",
       "      <th>247</th>\n",
       "      <td>248</td>\n",
       "      <td>Life of Brian</td>\n",
       "      <td>1979</td>\n",
       "      <td>8.0</td>\n",
       "    </tr>\n",
       "    <tr>\n",
       "      <th>248</th>\n",
       "      <td>249</td>\n",
       "      <td>Aladdin</td>\n",
       "      <td>1992</td>\n",
       "      <td>8.0</td>\n",
       "    </tr>\n",
       "    <tr>\n",
       "      <th>249</th>\n",
       "      <td>250</td>\n",
       "      <td>Dances with Wolves</td>\n",
       "      <td>1990</td>\n",
       "      <td>8.0</td>\n",
       "    </tr>\n",
       "  </tbody>\n",
       "</table>\n",
       "</div>"
      ],
      "text/plain": [
       "     movie_rank          movie_name release_year rating\n",
       "245         246            The Help         2011    8.0\n",
       "246         247      The Iron Giant         1999    8.0\n",
       "247         248       Life of Brian         1979    8.0\n",
       "248         249             Aladdin         1992    8.0\n",
       "249         250  Dances with Wolves         1990    8.0"
      ]
     },
     "execution_count": 11,
     "metadata": {},
     "output_type": "execute_result"
    }
   ],
   "source": [
    "df.tail() # Shows The last 5 rows"
   ]
  },
  {
   "attachments": {},
   "cell_type": "markdown",
   "id": "5ab2b405",
   "metadata": {},
   "source": [
    "## Conclusion:\n",
    "- The IMDb Top 250 movies offer a valuable resource for movie lovers, providing a curated selection of quality films, diverse genres, and cultural significance. It serves as a guide for discovering and appreciating acclaimed movies from around the world.\n",
    "\n",
    "- The IMDb Top 250 movies comprise the highest-ranking 250 films based on its user votes. The list is subject to change as new movies receive more votes or the existing rankings shift . Then we would have to re-run the script to get the data."
   ]
  }
 ],
 "metadata": {
  "kernelspec": {
   "display_name": "Python 3 (ipykernel)",
   "language": "python",
   "name": "python3"
  },
  "language_info": {
   "codemirror_mode": {
    "name": "ipython",
    "version": 3
   },
   "file_extension": ".py",
   "mimetype": "text/x-python",
   "name": "python",
   "nbconvert_exporter": "python",
   "pygments_lexer": "ipython3",
   "version": "3.11.3"
  }
 },
 "nbformat": 4,
 "nbformat_minor": 5
}
